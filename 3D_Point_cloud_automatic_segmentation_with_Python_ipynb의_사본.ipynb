{
  "nbformat": 4,
  "nbformat_minor": 0,
  "metadata": {
    "colab": {
      "name": "3D-Point-cloud-automatic-segmentation-with-Python.ipynb의 사본",
      "provenance": [],
      "collapsed_sections": [],
      "toc_visible": true,
      "include_colab_link": true
    },
    "kernelspec": {
      "display_name": "Python 3",
      "name": "python3"
    }
  },
  "cells": [
    {
      "cell_type": "markdown",
      "metadata": {
        "id": "view-in-github",
        "colab_type": "text"
      },
      "source": [
        "<a href=\"https://colab.research.google.com/github/oclis/ROS-EYE/blob/master/3D_Point_cloud_automatic_segmentation_with_Python_ipynb%EC%9D%98_%EC%82%AC%EB%B3%B8.ipynb\" target=\"_parent\"><img src=\"https://colab.research.google.com/assets/colab-badge.svg\" alt=\"Open In Colab\"/></a>"
      ]
    },
    {
      "cell_type": "markdown",
      "metadata": {
        "id": "ESHGw_Kudkf4"
      },
      "source": [
        "Created by Florent Poux, 2021. Licence MIT\n",
        "\n",
        "*   To reuse in your project, please cite the article accessible here: \n",
        "[To Medium Article](https://towardsdatascience.com/how-to-automate-lidar-point-cloud-processing-with-python-a027454a536c)\n",
        "*   Have fun with this notebook that you can very simply run (ctrl+Enter) !\n",
        "*   The first time thought, it will ask you to get a key for it to be able to acces your Google drive folders if you want to work all remotely.\n",
        "*   Simply accept, and then change the input path by the folder path containing your data, on Google Drive.\n",
        "\n",
        "Enjoy!"
      ]
    },
    {
      "cell_type": "markdown",
      "metadata": {
        "id": "TLxlwD5AdI57"
      },
      "source": [
        "# Step 1 & 2: Setting up the environment and loading the data"
      ]
    },
    {
      "cell_type": "code",
      "metadata": {
        "id": "uPeCFjmItybl"
      },
      "source": [
        "#This code snippet allows to use data directly from your Google drives files.\n",
        "#If you want to use a shared folder, just add the folder to your drive\n",
        "from google.colab import drive\n",
        "drive.mount('/content/gdrive')"
      ],
      "execution_count": null,
      "outputs": []
    },
    {
      "cell_type": "code",
      "metadata": {
        "id": "Uzrw-UieNDPt"
      },
      "source": [
        "# http://www.open3d.org/docs/release/getting_started.html\n",
        "!pip install open3d\n",
        "\n",
        "#libraries used\n",
        "import numpy as np\n",
        "import open3d as o3d\n",
        "import matplotlib.pyplot as plt"
      ],
      "execution_count": null,
      "outputs": []
    },
    {
      "cell_type": "code",
      "metadata": {
        "id": "uCPkhRyEe9UM"
      },
      "source": [
        "#create paths and load data\n",
        "input_path=\"gdrive/My Drive/_MEDIUM/DATA/Point Cloud Sample/\"\n",
        "dataname=\"TLS_kitchen.ply\"\n",
        "\n",
        "pcd = o3d.io.read_point_cloud(input_path+dataname)"
      ],
      "execution_count": null,
      "outputs": []
    },
    {
      "cell_type": "markdown",
      "metadata": {
        "id": "7WY2eB86-VmB"
      },
      "source": [
        "# Step 3: First segmentation round"
      ]
    },
    {
      "cell_type": "markdown",
      "metadata": {
        "id": "29wM_-RvastM"
      },
      "source": [
        "## 3.1 [Optional] Normals computation"
      ]
    },
    {
      "cell_type": "code",
      "metadata": {
        "id": "YXvaMwuTbAS0"
      },
      "source": [
        "pcd.estimate_normals(search_param=o3d.geometry.KDTreeSearchParamHybrid(radius=0.1, max_nn=16), fast_normal_computation=True)\n",
        "pcd.paint_uniform_color([0.6, 0.6, 0.6])\n",
        "#o3d.visualization.draw_geometries([pcd]) #Works only outside Jupyter/Colab"
      ],
      "execution_count": null,
      "outputs": []
    },
    {
      "cell_type": "markdown",
      "metadata": {
        "id": "PcnfugguA7SE"
      },
      "source": [
        "## 3.2 [INITIATION] 3D Shape Detection with RANSAC"
      ]
    },
    {
      "cell_type": "code",
      "metadata": {
        "id": "IJ1soC6MbAEL"
      },
      "source": [
        "plane_model, inliers = pcd.segment_plane(distance_threshold=0.01,ransac_n=3,num_iterations=1000)\n",
        "[a, b, c, d] = plane_model\n",
        "print(f\"Plane equation: {a:.2f}x + {b:.2f}y + {c:.2f}z + {d:.2f} = 0\")\n",
        "inlier_cloud = pcd.select_by_index(inliers)\n",
        "outlier_cloud = pcd.select_by_index(inliers, invert=True)\n",
        "inlier_cloud.paint_uniform_color([1.0, 0, 0])\n",
        "outlier_cloud.paint_uniform_color([0.6, 0.6, 0.6])\n",
        "# o3d.visualization.draw_geometries([inlier_cloud, outlier_cloud])"
      ],
      "execution_count": null,
      "outputs": []
    },
    {
      "cell_type": "markdown",
      "metadata": {
        "id": "HhDERLqiAvz0"
      },
      "source": [
        "## 3.3 [INITIATION] Clustering with DBSCAN"
      ]
    },
    {
      "cell_type": "code",
      "metadata": {
        "id": "HAf9_b8XbALb"
      },
      "source": [
        "labels = np.array(pcd.cluster_dbscan(eps=0.05, min_points=10))\n",
        "max_label = labels.max()\n",
        "print(f\"point cloud has {max_label + 1} clusters\")\n",
        "\n",
        "colors = plt.get_cmap(\"tab20\")(labels / (max_label if max_label > 0 else 1))\n",
        "colors[labels < 0] = 0\n",
        "pcd.colors = o3d.utility.Vector3dVector(colors[:, :3])\n",
        "\n",
        "# o3d.visualization.draw_geometries([pcd])"
      ],
      "execution_count": null,
      "outputs": []
    },
    {
      "cell_type": "markdown",
      "metadata": {
        "id": "P4FOjG-HBoL7"
      },
      "source": [
        "# Step 4: Scaling and automation"
      ]
    },
    {
      "cell_type": "markdown",
      "metadata": {
        "id": "aopUeqanB6Ts"
      },
      "source": [
        "## 4.1 RANSAC loop for multiple planar shapes detection"
      ]
    },
    {
      "cell_type": "code",
      "metadata": {
        "id": "YAA_4H15a_3F"
      },
      "source": [
        "segment_models={}\n",
        "segments={}\n",
        "max_plane_idx=10\n",
        "rest=pcd\n",
        "for i in range(max_plane_idx):\n",
        "    colors = plt.get_cmap(\"tab20\")(i)\n",
        "    segment_models[i], inliers = rest.segment_plane(distance_threshold=0.01,ransac_n=3,num_iterations=1000)\n",
        "    segments[i]=rest.select_by_index(inliers)\n",
        "    segments[i].paint_uniform_color(list(colors[:3]))\n",
        "    rest = rest.select_by_index(inliers, invert=True)\n",
        "    print(\"pass\",i,\"/\",max_plane_idx,\"done.\")\n",
        "\n",
        "#o3d.visualization.draw_geometries([segments[i] for i in range(max_plane_idx)]+[rest])"
      ],
      "execution_count": null,
      "outputs": []
    },
    {
      "cell_type": "markdown",
      "metadata": {
        "id": "KpyNfJ1KCQOD"
      },
      "source": [
        "## 4.2 Refined RANSAC with Euclidean clustering"
      ]
    },
    {
      "cell_type": "code",
      "metadata": {
        "id": "k0R5wErVbFqT"
      },
      "source": [
        "segment_models={}\n",
        "segments={}\n",
        "max_plane_idx=20\n",
        "rest=pcd\n",
        "d_threshold=0.01\n",
        "for i in range(max_plane_idx):\n",
        "    colors = plt.get_cmap(\"tab20\")(i)\n",
        "    segment_models[i], inliers = rest.segment_plane(distance_threshold=0.01,ransac_n=3,num_iterations=1000)\n",
        "    segments[i]=rest.select_by_index(inliers)\n",
        "    labels = np.array(segments[i].cluster_dbscan(eps=d_threshold*10, min_points=10))\n",
        "    candidates=[len(np.where(labels==j)[0]) for j in np.unique(labels)]\n",
        "    best_candidate=int(np.unique(labels)[np.where(candidates==np.max(candidates))[0]])\n",
        "    print(\"the best candidate is: \", best_candidate)\n",
        "    rest = rest.select_by_index(inliers, invert=True)+segments[i].select_by_index(list(np.where(labels!=best_candidate)[0]))\n",
        "    segments[i]=segments[i].select_by_index(list(np.where(labels==best_candidate)[0]))\n",
        "    segments[i].paint_uniform_color(list(colors[:3]))\n",
        "    print(\"pass\",i+1,\"/\",max_plane_idx,\"done.\")"
      ],
      "execution_count": null,
      "outputs": []
    },
    {
      "cell_type": "markdown",
      "metadata": {
        "id": "R59CGwoPCcDn"
      },
      "source": [
        "## 4.3 Euclidean clustering of the rest with DBSCAN"
      ]
    },
    {
      "cell_type": "code",
      "metadata": {
        "id": "g-rsI5kbbFjs"
      },
      "source": [
        "labels = np.array(rest.cluster_dbscan(eps=0.05, min_points=5))\n",
        "max_label = labels.max()\n",
        "print(f\"point cloud has {max_label + 1} clusters\")\n",
        "\n",
        "colors = plt.get_cmap(\"tab10\")(labels / (max_label if max_label > 0 else 1))\n",
        "colors[labels < 0] = 0\n",
        "rest.colors = o3d.utility.Vector3dVector(colors[:, :3])\n",
        "\n",
        "# o3d.visualization.draw_geometries([segments.values()])\n",
        "# o3d.visualization.draw_geometries([segments[i] for i in range(max_plane_idx)]+[rest],\n",
        "o3d.visualization.draw_geometries([segments[i] for i in range(max_plane_idx)]+[rest],zoom=0.3199,front=[0.30159062875123849, 0.94077325609922868, 0.15488309545553303],lookat=[-3.9559999108314514, -0.055000066757202148, -0.27599999308586121],up=[-0.044411423633999815, -0.138726419067636, 0.98753122516983349])\n",
        "# o3d.visualization.draw_geometries([rest])"
      ],
      "execution_count": null,
      "outputs": []
    },
    {
      "cell_type": "markdown",
      "metadata": {
        "id": "Xd_4to4ICmFn"
      },
      "source": [
        "# BONUS: Small drawing function for Colab"
      ]
    },
    {
      "cell_type": "code",
      "metadata": {
        "id": "tz1nB0S2dqq1",
        "colab": {
          "base_uri": "https://localhost:8080/",
          "height": 248
        },
        "outputId": "ec74608c-d305-4034-fd4e-68dfa7299495"
      },
      "source": [
        "from mpl_toolkits import mplot3d\n",
        "\n",
        "pc=np.asarray(pcd.points)\n",
        "ax = plt.axes(projection='3d')\n",
        "ax.scatter(pc[:,0], pc[:,1], pc[:,2], c = np.asarray(pcd.colors), s=0.01)\n",
        "plt.show()"
      ],
      "execution_count": null,
      "outputs": [
        {
          "output_type": "display_data",
          "data": {
            "image/png": "[encoded data removed]",
            "text/plain": [
              "<Figure size 432x288 with 1 Axes>"
            ]
          },
          "metadata": {
            "tags": [],
            "needs_background": "light"
          }
        }
      ]
    }
  ]
}